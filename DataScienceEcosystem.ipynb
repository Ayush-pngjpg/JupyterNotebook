{
 "cells": [
  {
   "cell_type": "markdown",
   "id": "bf37d85d",
   "metadata": {},
   "source": [
    "# Data Science Tools and Ecosystem"
   ]
  },
  {
   "cell_type": "markdown",
   "id": "89d20aee",
   "metadata": {},
   "source": [
    "## In this notebook, Data Science Tools and Ecosystem are summarized."
   ]
  },
  {
   "cell_type": "markdown",
   "id": "e6b6fdd6",
   "metadata": {},
   "source": [
    "### Some of the popular languages that Data Scientists use are:"
   ]
  },
  {
   "cell_type": "markdown",
   "id": "3b0582f5",
   "metadata": {},
   "source": [
    "1. Python\n",
    "2. R\n",
    "3. SQL"
   ]
  },
  {
   "cell_type": "markdown",
   "id": "be57966b",
   "metadata": {},
   "source": [
    "# Some of the commonly used libraries used by Data Scientists include:"
   ]
  },
  {
   "cell_type": "markdown",
   "id": "bc592f0f",
   "metadata": {},
   "source": [
    "1. Keras\n",
    "2. Scikit-learn\n",
    "3. TensorFlow"
   ]
  },
  {
   "cell_type": "code",
   "execution_count": 1,
   "id": "f85961e2",
   "metadata": {},
   "outputs": [
    {
     "name": "stdout",
     "output_type": "stream",
     "text": [
      "--------------------\n",
      "|Data Science Tools|\n",
      "--------------------\n",
      "| Jupyter Notebook |\n",
      "--------------------\n",
      "|      RStudio     |\n",
      "--------------------\n",
      "|      VSCode      |\n",
      "--------------------\n"
     ]
    }
   ],
   "source": [
    "print(\"--------------------\")\n",
    "print(\"|Data Science Tools|\")\n",
    "print(\"--------------------\")\n",
    "print(\"| Jupyter Notebook |\")\n",
    "print(\"--------------------\")\n",
    "print(\"|      RStudio     |\")\n",
    "print(\"--------------------\")\n",
    "print(\"|      VSCode      |\")\n",
    "print(\"--------------------\")"
   ]
  },
  {
   "cell_type": "markdown",
   "id": "859b052e",
   "metadata": {},
   "source": [
    "### Below are a few examples of evaluating arithmetic expressions in Python "
   ]
  },
  {
   "cell_type": "markdown",
   "id": "1c2ef246",
   "metadata": {},
   "source": [
    "This a simple arithmetic expression to mutiply then add integers"
   ]
  },
  {
   "cell_type": "code",
   "execution_count": 2,
   "id": "31479e14",
   "metadata": {},
   "outputs": [
    {
     "data": {
      "text/plain": [
       "17"
      ]
     },
     "execution_count": 2,
     "metadata": {},
     "output_type": "execute_result"
    }
   ],
   "source": [
    "(3*4)+5"
   ]
  },
  {
   "cell_type": "markdown",
   "id": "c04181fd",
   "metadata": {},
   "source": [
    "This will convert 200 minutes to hours by diving by 60"
   ]
  },
  {
   "cell_type": "code",
   "execution_count": 3,
   "id": "f1bf409c",
   "metadata": {},
   "outputs": [
    {
     "data": {
      "text/plain": [
       "3.3333333333333335"
      ]
     },
     "execution_count": 3,
     "metadata": {},
     "output_type": "execute_result"
    }
   ],
   "source": [
    "def minutes_in_hours(x):\n",
    "    y = x/60\n",
    "    return y\n",
    "\n",
    "minutes_in_hours(200)"
   ]
  },
  {
   "cell_type": "markdown",
   "id": "12394cb4",
   "metadata": {},
   "source": [
    "# Introduction"
   ]
  },
  {
   "cell_type": "markdown",
   "id": "6a618750",
   "metadata": {},
   "source": [
    "#### Objectives:"
   ]
  },
  {
   "cell_type": "markdown",
   "id": "04961611",
   "metadata": {},
   "source": [
    "- List popular languages for Data Science.\n",
    "- Explain the importance of data visualization in analysis.\n",
    "- Introduce the concept of machine learning algorithms.\n",
    "- Provide an overview of data preprocessing techniques.\n",
    "- Highlight the significance of model evaluation and selection."
   ]
  },
  {
   "cell_type": "markdown",
   "id": "8a41ff75",
   "metadata": {},
   "source": [
    "## Author\n",
    "\n",
    "Ayush Tripathi"
   ]
  },
  {
   "cell_type": "code",
   "execution_count": null,
   "id": "44e15a1c",
   "metadata": {},
   "outputs": [],
   "source": []
  }
 ],
 "metadata": {
  "kernelspec": {
   "display_name": "Python 3 (ipykernel)",
   "language": "python",
   "name": "python3"
  },
  "language_info": {
   "codemirror_mode": {
    "name": "ipython",
    "version": 3
   },
   "file_extension": ".py",
   "mimetype": "text/x-python",
   "name": "python",
   "nbconvert_exporter": "python",
   "pygments_lexer": "ipython3",
   "version": "3.9.2"
  }
 },
 "nbformat": 4,
 "nbformat_minor": 5
}
